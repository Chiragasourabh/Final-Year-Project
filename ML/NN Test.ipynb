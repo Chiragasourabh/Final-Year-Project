{
 "cells": [
  {
   "cell_type": "code",
   "execution_count": 1,
   "metadata": {},
   "outputs": [
    {
     "name": "stderr",
     "output_type": "stream",
     "text": [
      "Using TensorFlow backend.\n"
     ]
    },
    {
     "name": "stdout",
     "output_type": "stream",
     "text": [
      "WARNING:tensorflow:From c:\\users\\chira\\appdata\\local\\programs\\python\\python37\\lib\\site-packages\\tensorflow\\python\\framework\\op_def_library.py:263: colocate_with (from tensorflow.python.framework.ops) is deprecated and will be removed in a future version.\n",
      "Instructions for updating:\n",
      "Colocations handled automatically by placer.\n",
      "WARNING:tensorflow:From c:\\users\\chira\\appdata\\local\\programs\\python\\python37\\lib\\site-packages\\tensorflow\\python\\ops\\math_ops.py:3066: to_int32 (from tensorflow.python.ops.math_ops) is deprecated and will be removed in a future version.\n",
      "Instructions for updating:\n",
      "Use tf.cast instead.\n"
     ]
    }
   ],
   "source": [
    "import joblib\n",
    "import numpy as np\n",
    "classifier = joblib.load('ArtificialNeuralNetwork_9573.pkl')"
   ]
  },
  {
   "cell_type": "code",
   "execution_count": 2,
   "metadata": {},
   "outputs": [
    {
     "name": "stdout",
     "output_type": "stream",
     "text": [
      "\n",
      "1. Having IP address\n",
      "2. URL Length\n",
      "3. URL Shortening service\n",
      "4. Having @ symbol\n",
      "5. Having double slash\n",
      "6. Having dash symbol(Prefix Suffix)\n",
      "7. Having multiple subdomains\n",
      "8. SSL Final State\n",
      "8. Domain Registration Length\n",
      "9. Favicon\n",
      "10. HTTP or HTTPS token in domain name\n",
      "11. Request URL\n",
      "12. URL of Anchor\n",
      "13. Links in tags\n",
      "14. SFH\n",
      "15. Submitting to email\n",
      "16. Abnormal URL\n",
      "17. IFrame\n",
      "18. Age of Domain\n",
      "19. DNS Record\n",
      "20. Web Traffic\n",
      "21. Google Index\n",
      "22. Statistical Reports\n",
      "\n",
      "[1, 1, 1, 1, 1, 1, 1, -1, 1, 1, -1, -1, 1, 0, 1, -1, 1, -1, -1, -1, 1, 1]\n"
     ]
    }
   ],
   "source": [
    "import features_extraction\n",
    "feature = features_extraction.main(\"https://www.google.com/\")\n",
    "features_test = np.array(feature).reshape((1, -1))"
   ]
  },
  {
   "cell_type": "code",
   "execution_count": 3,
   "metadata": {},
   "outputs": [],
   "source": [
    "ans = classifier.predict(features_test)"
   ]
  },
  {
   "cell_type": "code",
   "execution_count": 4,
   "metadata": {},
   "outputs": [
    {
     "name": "stdout",
     "output_type": "stream",
     "text": [
      "True\n"
     ]
    }
   ],
   "source": [
    "print(ans[0][0]<0.5)"
   ]
  },
  {
   "cell_type": "code",
   "execution_count": 5,
   "metadata": {},
   "outputs": [
    {
     "name": "stdout",
     "output_type": "stream",
     "text": [
      "\n",
      "1. Having IP address\n",
      "2. URL Length\n",
      "3. URL Shortening service\n",
      "4. Having @ symbol\n",
      "5. Having double slash\n",
      "6. Having dash symbol(Prefix Suffix)\n",
      "7. Having multiple subdomains\n",
      "8. SSL Final State\n",
      "8. Domain Registration Length\n",
      "9. Favicon\n",
      "10. HTTP or HTTPS token in domain name\n",
      "11. Request URL\n",
      "12. URL of Anchor\n",
      "13. Links in tags\n",
      "14. SFH\n",
      "15. Submitting to email\n",
      "16. Abnormal URL\n",
      "17. IFrame\n",
      "18. Age of Domain\n",
      "19. DNS Record\n",
      "20. Web Traffic\n",
      "21. Google Index\n",
      "22. Statistical Reports\n",
      "\n",
      "[1, 1, 1, 1, 1, 1, 1, -1, 1, 1, 1, 1, 1, 1, 1, -1, 1, -1, -1, -1, 1, 1]\n",
      "[[ 1  1  1  1  1  1  1 -1  1  1  1  1  1  1  1 -1  1 -1 -1 -1  1  1]]\n"
     ]
    }
   ],
   "source": [
    "feature = features_extraction.main(\"https://www.llbonue.vot.pl/\")\n",
    "features_test = np.array(feature).reshape((1, -1))\n",
    "print(features_test)"
   ]
  },
  {
   "cell_type": "code",
   "execution_count": 6,
   "metadata": {},
   "outputs": [],
   "source": [
    "ans = classifier.predict(features_test)"
   ]
  },
  {
   "cell_type": "code",
   "execution_count": 7,
   "metadata": {},
   "outputs": [
    {
     "name": "stdout",
     "output_type": "stream",
     "text": [
      "False\n"
     ]
    }
   ],
   "source": [
    "print(ans[0][0]<0.5)"
   ]
  },
  {
   "cell_type": "code",
   "execution_count": 10,
   "metadata": {},
   "outputs": [
    {
     "data": {
      "text/plain": [
       "6.6866104e-25"
      ]
     },
     "execution_count": 10,
     "metadata": {},
     "output_type": "execute_result"
    }
   ],
   "source": [
    "classifier.predict(np.array([1, 1, 1, 1, 1, 1, 1, -1, 1, 1, -1, -1, 1, 0, 1, -1, 1, -1, -1, -1, 1, 1]).reshape((1, -1)))[0][0]"
   ]
  },
  {
   "cell_type": "code",
   "execution_count": null,
   "metadata": {},
   "outputs": [],
   "source": []
  }
 ],
 "metadata": {
  "kernelspec": {
   "display_name": "Python 3",
   "language": "python",
   "name": "python3"
  },
  "language_info": {
   "codemirror_mode": {
    "name": "ipython",
    "version": 3
   },
   "file_extension": ".py",
   "mimetype": "text/x-python",
   "name": "python",
   "nbconvert_exporter": "python",
   "pygments_lexer": "ipython3",
   "version": "3.7.0"
  }
 },
 "nbformat": 4,
 "nbformat_minor": 2
}
