{
 "cells": [
  {
   "cell_type": "code",
   "execution_count": 1,
   "metadata": {},
   "outputs": [],
   "source": [
    "import numpy as np\n",
    "\n",
    "from sklearn.ensemble import RandomForestClassifier\n",
    "from sklearn.metrics import accuracy_score, classification_report\n",
    "from sklearn import metrics\n",
    "import joblib"
   ]
  },
  {
   "cell_type": "code",
   "execution_count": 2,
   "metadata": {},
   "outputs": [],
   "source": [
    "labels=[]\n",
    "features=[]\n",
    "file=open('Training Dataset.arff').read()\n",
    "list=file.split('\\n')\n",
    "data=np.array(list)\n",
    "data_new=[i.split(',') for i in data]\n",
    "data_new=data_new[0:-1]"
   ]
  },
  {
   "cell_type": "code",
   "execution_count": 3,
   "metadata": {},
   "outputs": [],
   "source": [
    "for i in data_new:\n",
    "    labels.append(i[30])\n",
    "data_new = np.array(data_new)\n",
    "features = data_new[:,:-1]\n",
    "# features = features[:, [0, 1, 2, 3, 5, 6, 7, 8, 11, 12, 13, 14, 15, 16, 18, 21, 23, 24, 25, 26, 27, 28]]\n",
    "features = features[:, [0, 1, 2, 3, 4, 5, 6, 8, 9, 11, 12, 13, 14, 15, 16, 17, 22, 23, 24, 25, 27, 29]]\n",
    "features = np.array(features).astype(np.float)\n",
    "features_train = features\n",
    "labels_train = labels"
   ]
  },
  {
   "cell_type": "code",
   "execution_count": 4,
   "metadata": {},
   "outputs": [
    {
     "data": {
      "text/plain": [
       "11054"
      ]
     },
     "execution_count": 4,
     "metadata": {},
     "output_type": "execute_result"
    }
   ],
   "source": [
    "len(features_train)"
   ]
  },
  {
   "cell_type": "code",
   "execution_count": 5,
   "metadata": {},
   "outputs": [
    {
     "name": "stdout",
     "output_type": "stream",
     "text": [
      "\n",
      "\n",
      " Random Forest Algorithm Results \n"
     ]
    },
    {
     "name": "stderr",
     "output_type": "stream",
     "text": [
      "c:\\users\\chira\\appdata\\local\\programs\\python\\python37\\lib\\site-packages\\sklearn\\ensemble\\forest.py:246: FutureWarning: The default value of n_estimators will change from 10 in version 0.20 to 100 in 0.22.\n",
      "  \"10 in version 0.20 to 100 in 0.22.\", FutureWarning)\n",
      "[Parallel(n_jobs=1)]: Using backend SequentialBackend with 1 concurrent workers.\n",
      "[Parallel(n_jobs=1)]: Done  10 out of  10 | elapsed:    0.0s finished\n"
     ]
    },
    {
     "data": {
      "text/plain": [
       "RandomForestClassifier(bootstrap=True, class_weight=None, criterion='gini',\n",
       "            max_depth=None, max_features='auto', max_leaf_nodes=None,\n",
       "            min_impurity_decrease=0.0, min_impurity_split=None,\n",
       "            min_samples_leaf=1, min_samples_split=7,\n",
       "            min_weight_fraction_leaf=0.0, n_estimators=10, n_jobs=None,\n",
       "            oob_score=False, random_state=None, verbose=True,\n",
       "            warm_start=False)"
      ]
     },
     "execution_count": 5,
     "metadata": {},
     "output_type": "execute_result"
    }
   ],
   "source": [
    "print(\"\\n\\n \"\"Random Forest Algorithm Results\"\" \")\n",
    "clf4 = RandomForestClassifier(min_samples_split=7, verbose=True)\n",
    "clf4.fit(features_train, labels_train)"
   ]
  },
  {
   "cell_type": "code",
   "execution_count": 6,
   "metadata": {},
   "outputs": [
    {
     "name": "stdout",
     "output_type": "stream",
     "text": [
      "Feature ranking:\n",
      "1. feature 11 (0.385706)\n",
      "2. feature 19 (0.110055)\n",
      "3. feature 6 (0.095344)\n",
      "4. feature 5 (0.085162)\n",
      "5. feature 12 (0.061167)\n",
      "6. feature 13 (0.039327)\n",
      "7. feature 10 (0.025038)\n",
      "8. feature 7 (0.024846)\n",
      "9. feature 17 (0.023168)\n",
      "10. feature 20 (0.021241)\n",
      "11. feature 18 (0.020472)\n",
      "12. feature 0 (0.019604)\n",
      "13. feature 8 (0.011205)\n",
      "14. feature 1 (0.010802)\n",
      "15. feature 14 (0.010770)\n",
      "16. feature 9 (0.010511)\n",
      "17. feature 2 (0.009832)\n",
      "18. feature 21 (0.008857)\n",
      "19. feature 4 (0.007273)\n",
      "20. feature 15 (0.007111)\n",
      "21. feature 3 (0.006845)\n",
      "22. feature 16 (0.005663)\n"
     ]
    }
   ],
   "source": [
    "importances = clf4.feature_importances_\n",
    "std = np.std([tree.feature_importances_ for tree in clf4.estimators_], axis=0)\n",
    "indices = np.argsort(importances)[::-1]\n",
    "# Print the feature ranking\n",
    "print(\"Feature ranking:\")\n",
    "for f in range(features_train.shape[1]):\n",
    "    print(\"%d. feature %d (%f)\" % (f + 1, indices[f], importances[indices[f]]))"
   ]
  },
  {
   "cell_type": "code",
   "execution_count": 7,
   "metadata": {},
   "outputs": [
    {
     "data": {
      "text/plain": [
       "<matplotlib.axes._subplots.AxesSubplot at 0x2120c5cca58>"
      ]
     },
     "execution_count": 7,
     "metadata": {},
     "output_type": "execute_result"
    }
   ],
   "source": [
    "import pandas as pd\n",
    "import matplotlib.pyplot as plt\n",
    "plt.figure(figsize=(20,10))\n",
    "pd.Series(clf4.feature_importances_).plot(kind='bar')"
   ]
  },
  {
   "cell_type": "code",
   "execution_count": 8,
   "metadata": {},
   "outputs": [],
   "source": [
    "features_test=features[10000:]\n",
    "labels_test=labels[10000:]"
   ]
  },
  {
   "cell_type": "code",
   "execution_count": 9,
   "metadata": {},
   "outputs": [
    {
     "name": "stdout",
     "output_type": "stream",
     "text": [
      "              precision    recall  f1-score   support\n",
      "\n",
      "          -1       0.96      0.94      0.95       460\n",
      "           1       0.96      0.97      0.96       594\n",
      "\n",
      "   micro avg       0.96      0.96      0.96      1054\n",
      "   macro avg       0.96      0.95      0.95      1054\n",
      "weighted avg       0.96      0.96      0.96      1054\n",
      "\n",
      "The accuracy is: 95.54079696394687 %\n",
      "[[433  27]\n",
      " [ 20 574]]\n"
     ]
    },
    {
     "name": "stderr",
     "output_type": "stream",
     "text": [
      "[Parallel(n_jobs=1)]: Using backend SequentialBackend with 1 concurrent workers.\n",
      "[Parallel(n_jobs=1)]: Done  10 out of  10 | elapsed:    0.0s finished\n"
     ]
    }
   ],
   "source": [
    "pred4=clf4.predict(features_test)\n",
    "print(classification_report(labels_test, pred4))\n",
    "print('The accuracy is:', 100*accuracy_score(labels_test, pred4),'%')\n",
    "print(metrics.confusion_matrix(labels_test, pred4))"
   ]
  }
 ],
 "metadata": {
  "kernelspec": {
   "display_name": "Python 3",
   "language": "python",
   "name": "python3"
  },
  "language_info": {
   "codemirror_mode": {
    "name": "ipython",
    "version": 3
   },
   "file_extension": ".py",
   "mimetype": "text/x-python",
   "name": "python",
   "nbconvert_exporter": "python",
   "pygments_lexer": "ipython3",
   "version": "3.7.0"
  }
 },
 "nbformat": 4,
 "nbformat_minor": 2
}
