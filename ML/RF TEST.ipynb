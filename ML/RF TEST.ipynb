{
 "cells": [
  {
   "cell_type": "code",
   "execution_count": 1,
   "metadata": {},
   "outputs": [],
   "source": [
    "import joblib\n",
    "import features_extraction\n",
    "import sys\n",
    "import numpy as np"
   ]
  },
  {
   "cell_type": "code",
   "execution_count": 2,
   "metadata": {},
   "outputs": [
    {
     "name": "stdout",
     "output_type": "stream",
     "text": [
      "\n",
      "1. Having IP address\n",
      "2. URL Length\n",
      "3. URL Shortening service\n",
      "4. Having @ symbol\n",
      "5. Having double slash\n",
      "6. Having dash symbol(Prefix Suffix)\n",
      "7. Having multiple subdomains\n",
      "8. SSL Final State\n",
      "8. Domain Registration Length\n",
      "9. Favicon\n",
      "10. HTTP or HTTPS token in domain name\n",
      "11. Request URL\n",
      "12. URL of Anchor\n",
      "13. Links in tags\n",
      "14. SFH\n",
      "15. Submitting to email\n",
      "16. Abnormal URL\n",
      "17. IFrame\n",
      "18. Age of Domain\n",
      "19. DNS Record\n",
      "20. Web Traffic\n",
      "21. Google Index\n",
      "22. Statistical Reports\n",
      "\n",
      "[1, 1, 1, 1, 1, 1, 1, -1, 1, 1, -1, -1, 1, 0, 1, -1, 1, -1, -1, -1, 1, 1]\n"
     ]
    }
   ],
   "source": [
    "features_test = features_extraction.main(\"https://www.google.com\")\n",
    "features_test = np.array(features_test).reshape((1, -1))\n"
   ]
  },
  {
   "cell_type": "code",
   "execution_count": 3,
   "metadata": {},
   "outputs": [
    {
     "name": "stderr",
     "output_type": "stream",
     "text": [
      "[Parallel(n_jobs=1)]: Using backend SequentialBackend with 1 concurrent workers.\n",
      "[Parallel(n_jobs=1)]: Done  10 out of  10 | elapsed:    0.0s finished\n"
     ]
    }
   ],
   "source": [
    "clf = joblib.load('random_forest.pkl')\n",
    "pred = clf.predict(features_test)"
   ]
  },
  {
   "cell_type": "code",
   "execution_count": 4,
   "metadata": {},
   "outputs": [
    {
     "name": "stdout",
     "output_type": "stream",
     "text": [
      "['1']\n"
     ]
    }
   ],
   "source": [
    "print(pred)"
   ]
  },
  {
   "cell_type": "code",
   "execution_count": null,
   "metadata": {},
   "outputs": [],
   "source": []
  }
 ],
 "metadata": {
  "kernelspec": {
   "display_name": "Python 3",
   "language": "python",
   "name": "python3"
  },
  "language_info": {
   "codemirror_mode": {
    "name": "ipython",
    "version": 3
   },
   "file_extension": ".py",
   "mimetype": "text/x-python",
   "name": "python",
   "nbconvert_exporter": "python",
   "pygments_lexer": "ipython3",
   "version": "3.6.8"
  }
 },
 "nbformat": 4,
 "nbformat_minor": 2
}
