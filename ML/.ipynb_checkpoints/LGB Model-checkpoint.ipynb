{
 "cells": [
  {
   "cell_type": "code",
   "execution_count": 1,
   "metadata": {},
   "outputs": [],
   "source": [
    "import numpy as np\n",
    "import pickle\n",
    "import lightgbm as lgb\n",
    "from sklearn.ensemble import RandomForestClassifier\n",
    "from sklearn.metrics import accuracy_score, classification_report\n",
    "from sklearn import metrics\n",
    "import joblib"
   ]
  },
  {
   "cell_type": "code",
   "execution_count": 2,
   "metadata": {},
   "outputs": [],
   "source": [
    "labels=[]\n",
    "features=[]\n",
    "file=open('Training Dataset.arff').read()\n",
    "list=file.split('\\n')\n",
    "data=np.array(list)\n",
    "data_new=[i.split(',') for i in data]\n",
    "data_new=data_new[0:-1]"
   ]
  },
  {
   "cell_type": "code",
   "execution_count": 3,
   "metadata": {},
   "outputs": [],
   "source": [
    "for i in data_new:\n",
    "    labels.append(i[30])\n",
    "data_new = np.array(data_new)\n",
    "features = data_new[:,:-1]\n",
    "# features = features[:, [0, 1, 2, 3, 5, 6, 7, 8, 11, 12, 13, 14, 15, 16, 18, 21, 23, 24, 25, 26, 27, 28]]\n",
    "features = features[:, [0, 1, 2, 3, 4, 5, 6, 8, 9, 11, 12, 13, 14, 15, 16, 17, 22, 23, 24, 25, 27, 29]]\n",
    "features = np.array(features).astype(np.float)\n",
    "features_train = features\n",
    "labels_train = labels"
   ]
  },
  {
   "cell_type": "code",
   "execution_count": 4,
   "metadata": {},
   "outputs": [
    {
     "name": "stdout",
     "output_type": "stream",
     "text": [
      "\n",
      "\n",
      " Random Forest Algorithm Results \n"
     ]
    },
    {
     "name": "stderr",
     "output_type": "stream",
     "text": [
      "c:\\users\\chira\\appdata\\local\\programs\\python\\python37\\lib\\site-packages\\sklearn\\ensemble\\forest.py:246: FutureWarning: The default value of n_estimators will change from 10 in version 0.20 to 100 in 0.22.\n",
      "  \"10 in version 0.20 to 100 in 0.22.\", FutureWarning)\n",
      "[Parallel(n_jobs=1)]: Using backend SequentialBackend with 1 concurrent workers.\n",
      "[Parallel(n_jobs=1)]: Done  10 out of  10 | elapsed:    0.0s finished\n"
     ]
    },
    {
     "data": {
      "text/plain": [
       "LGBMClassifier(boosting_type='gbdt', class_weight=None, colsample_bytree=1.0,\n",
       "        importance_type='split', learning_rate=0.05, max_depth=-1,\n",
       "        min_child_samples=20, min_child_weight=0.001, min_split_gain=0.0,\n",
       "        n_estimators=4000, n_jobs=-1, num_leaves=31, objective=None,\n",
       "        random_state=None, reg_alpha=0.0, reg_lambda=0.0, silent=True,\n",
       "        subsample=1.0, subsample_for_bin=200000, subsample_freq=0)"
      ]
     },
     "execution_count": 4,
     "metadata": {},
     "output_type": "execute_result"
    }
   ],
   "source": [
    "#Light Gradient booster\n",
    "lgb_model = lgb.LGBMClassifier(learning_rate=0.05, n_estimators=4000)\n",
    "lgb_model.fit(features_train, labels_train)"
   ]
  },
  {
   "cell_type": "code",
   "execution_count": 5,
   "metadata": {},
   "outputs": [
    {
     "name": "stdout",
     "output_type": "stream",
     "text": [
      "Feature ranking:\n",
      "1. feature 11 (0.371557)\n",
      "2. feature 19 (0.106360)\n",
      "3. feature 6 (0.100780)\n",
      "4. feature 5 (0.087631)\n",
      "5. feature 12 (0.056265)\n",
      "6. feature 10 (0.038060)\n",
      "7. feature 13 (0.035573)\n",
      "8. feature 7 (0.025994)\n",
      "9. feature 17 (0.022664)\n",
      "10. feature 0 (0.021527)\n",
      "11. feature 18 (0.018204)\n",
      "12. feature 20 (0.017731)\n",
      "13. feature 1 (0.013217)\n",
      "14. feature 14 (0.012001)\n",
      "15. feature 2 (0.010841)\n",
      "16. feature 8 (0.010706)\n",
      "17. feature 4 (0.010630)\n",
      "18. feature 9 (0.010335)\n",
      "19. feature 3 (0.008309)\n",
      "20. feature 15 (0.007769)\n",
      "21. feature 21 (0.007228)\n",
      "22. feature 16 (0.006617)\n"
     ]
    }
   ],
   "source": [
    "importances = clf4.feature_importances_\n",
    "std = np.std([tree.feature_importances_ for tree in clf4.estimators_], axis=0)\n",
    "indices = np.argsort(importances)[::-1]\n",
    "# Print the feature ranking\n",
    "print(\"Feature ranking:\")\n",
    "for f in range(features_train.shape[1]):\n",
    "    print(\"%d. feature %d (%f)\" % (f + 1, indices[f], importances[indices[f]]))"
   ]
  },
  {
   "cell_type": "code",
   "execution_count": 6,
   "metadata": {},
   "outputs": [
    {
     "data": {
      "text/plain": [
       "<matplotlib.axes._subplots.AxesSubplot at 0x231435d45f8>"
      ]
     },
     "execution_count": 6,
     "metadata": {},
     "output_type": "execute_result"
    }
   ],
   "source": [
    "import pandas as pd\n",
    "import matplotlib.pyplot as plt\n",
    "plt.figure(figsize=(20,10))\n",
    "pd.Series(clf4.feature_importances_).plot(kind='bar')"
   ]
  },
  {
   "cell_type": "code",
   "execution_count": 7,
   "metadata": {},
   "outputs": [],
   "source": [
    "features_test=features[10000:]\n",
    "labels_test=labels[10000:]"
   ]
  },
  {
   "cell_type": "code",
   "execution_count": 8,
   "metadata": {},
   "outputs": [
    {
     "name": "stdout",
     "output_type": "stream",
     "text": [
      "Random Forest\n",
      "              precision    recall  f1-score   support\n",
      "\n",
      "          -1       0.96      0.94      0.95       460\n",
      "           1       0.96      0.97      0.96       594\n",
      "\n",
      "   micro avg       0.96      0.96      0.96      1054\n",
      "   macro avg       0.96      0.96      0.96      1054\n",
      "weighted avg       0.96      0.96      0.96      1054\n",
      "\n",
      "The accuracy is: 96.01518026565465 %\n",
      "[[434  26]\n",
      " [ 16 578]]\n"
     ]
    },
    {
     "name": "stderr",
     "output_type": "stream",
     "text": [
      "[Parallel(n_jobs=1)]: Using backend SequentialBackend with 1 concurrent workers.\n",
      "[Parallel(n_jobs=1)]: Done  10 out of  10 | elapsed:    0.0s finished\n"
     ]
    }
   ],
   "source": [
    "print(\"Random Forest\")\n",
    "pred1=clf4.predict(features_test)\n",
    "print(classification_report(labels_test, pred1))\n",
    "print('The accuracy is:', 100*accuracy_score(labels_test, pred1),'%')\n",
    "print(metrics.confusion_matrix(labels_test, pred1))"
   ]
  },
  {
   "cell_type": "code",
   "execution_count": 12,
   "metadata": {},
   "outputs": [
    {
     "name": "stdout",
     "output_type": "stream",
     "text": [
      "LGBM\n",
      "              precision    recall  f1-score   support\n",
      "\n",
      "          -1       0.97      0.96      0.97       460\n",
      "           1       0.97      0.98      0.97       594\n",
      "\n",
      "   micro avg       0.97      0.97      0.97      1054\n",
      "   macro avg       0.97      0.97      0.97      1054\n",
      "weighted avg       0.97      0.97      0.97      1054\n",
      "\n",
      "The accuracy is: 97.15370018975332 %\n",
      "[[443  17]\n",
      " [ 13 581]]\n"
     ]
    }
   ],
   "source": [
    "print(\"LGBM\")\n",
    "pred3=lgb_model.predict(features_test)\n",
    "print(classification_report(labels_test, pred3))\n",
    "print('The accuracy is:', 100*accuracy_score(labels_test, pred3),'%')\n",
    "print(metrics.confusion_matrix(labels_test, pred3))"
   ]
  },
  {
   "cell_type": "code",
   "execution_count": 10,
   "metadata": {},
   "outputs": [
    {
     "name": "stdout",
     "output_type": "stream",
     "text": [
      "Pickling sklearn API models\n",
      "Pickling Completed\n"
     ]
    }
   ],
   "source": [
    "print(\"Pickling sklearn API models\")\n",
    "# must open in binary format to pickle\n",
    "pickle.dump(lgb_model, open(\"Trained_LGBooster_model.pkl\", \"wb\"))\n",
    "print(\"Pickling Completed\")"
   ]
  },
  {
   "cell_type": "code",
   "execution_count": null,
   "metadata": {},
   "outputs": [],
   "source": []
  },
  {
   "cell_type": "code",
   "execution_count": null,
   "metadata": {},
   "outputs": [],
   "source": []
  },
  {
   "cell_type": "code",
   "execution_count": null,
   "metadata": {},
   "outputs": [],
   "source": []
  }
 ],
 "metadata": {
  "kernelspec": {
   "display_name": "Python 3",
   "language": "python",
   "name": "python3"
  },
  "language_info": {
   "codemirror_mode": {
    "name": "ipython",
    "version": 3
   },
   "file_extension": ".py",
   "mimetype": "text/x-python",
   "name": "python",
   "nbconvert_exporter": "python",
   "pygments_lexer": "ipython3",
   "version": "3.7.0"
  }
 },
 "nbformat": 4,
 "nbformat_minor": 2
}
