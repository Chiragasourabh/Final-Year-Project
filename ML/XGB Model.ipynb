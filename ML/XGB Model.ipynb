{
 "cells": [
  {
   "cell_type": "code",
   "execution_count": 1,
   "metadata": {},
   "outputs": [],
   "source": [
    "import numpy as np\n",
    "import xgboost as xgb\n",
    "import pickle\n",
    "from sklearn.metrics import accuracy_score, classification_report\n",
    "from sklearn import metrics\n",
    "import joblib"
   ]
  },
  {
   "cell_type": "code",
   "execution_count": 2,
   "metadata": {},
   "outputs": [],
   "source": [
    "labels=[]\n",
    "features=[]\n",
    "file=open('Training Dataset.arff').read()\n",
    "list=file.split('\\n')\n",
    "data=np.array(list)\n",
    "data_new=[i.split(',') for i in data]\n",
    "data_new=data_new[0:-1]"
   ]
  },
  {
   "cell_type": "code",
   "execution_count": 3,
   "metadata": {},
   "outputs": [],
   "source": [
    "for i in data_new:\n",
    "    labels.append(i[30])\n",
    "data_new = np.array(data_new)\n",
    "features = data_new[:,:-1]\n",
    "# features = features[:, [0, 1, 2, 3, 5, 6, 7, 8, 11, 12, 13, 14, 15, 16, 18, 21, 23, 24, 25, 26, 27, 28]]\n",
    "features = features[:, [0, 1, 2, 3, 4, 5, 6, 8, 9, 11, 12, 13, 14, 15, 16, 17, 22, 23, 24, 25, 27, 29]]\n",
    "features = np.array(features).astype(np.float)\n",
    "features_train = features\n",
    "labels_train = labels"
   ]
  },
  {
   "cell_type": "code",
   "execution_count": 4,
   "metadata": {},
   "outputs": [
    {
     "data": {
      "text/plain": [
       "XGBClassifier(base_score=0.5, booster='gbtree', colsample_bylevel=1,\n",
       "       colsample_bytree=1, gamma=0, learning_rate=0.05, max_delta_step=0,\n",
       "       max_depth=7, min_child_weight=1, missing=None, n_estimators=6000,\n",
       "       n_jobs=1, nthread=None, objective='binary:logistic', random_state=0,\n",
       "       reg_alpha=0, reg_lambda=0, scale_pos_weight=1, seed=1, silent=True,\n",
       "       subsample=1)"
      ]
     },
     "execution_count": 4,
     "metadata": {},
     "output_type": "execute_result"
    }
   ],
   "source": [
    "#XGB Model\n",
    "xgb_model = xgb.XGBClassifier(max_depth=7,\n",
    "                           min_child_weight=1,\n",
    "                           learning_rate=0.05,\n",
    "                           n_estimators=6000,\n",
    "                           silent=True,\n",
    "                           objective='binary:logistic',\n",
    "                           gamma=0,\n",
    "                           max_delta_step=0,\n",
    "                           subsample=1,\n",
    "                           colsample_bytree=1,\n",
    "                           colsample_bylevel=1,\n",
    "                           reg_alpha=0,\n",
    "                           reg_lambda=0,\n",
    "                           scale_pos_weight=1,\n",
    "                           seed=1,\n",
    "                           missing=None)\n",
    "xgb_model.fit(features_train, labels_train)\n"
   ]
  },
  {
   "cell_type": "code",
   "execution_count": 5,
   "metadata": {},
   "outputs": [
    {
     "data": {
      "text/plain": [
       "<matplotlib.axes._subplots.AxesSubplot at 0x2b02f6a06d8>"
      ]
     },
     "execution_count": 5,
     "metadata": {},
     "output_type": "execute_result"
    }
   ],
   "source": [
    "import pandas as pd\n",
    "import matplotlib.pyplot as plt\n",
    "plt.figure(figsize=(20,10))\n",
    "pd.Series(xgb_model.feature_importances_).plot(kind='bar')"
   ]
  },
  {
   "cell_type": "code",
   "execution_count": 6,
   "metadata": {},
   "outputs": [],
   "source": [
    "features_test=features[10000:]\n",
    "labels_test=labels[10000:]"
   ]
  },
  {
   "cell_type": "code",
   "execution_count": 8,
   "metadata": {},
   "outputs": [
    {
     "name": "stdout",
     "output_type": "stream",
     "text": [
      "XGB\n",
      "              precision    recall  f1-score   support\n",
      "\n",
      "          -1       0.97      0.96      0.97       460\n",
      "           1       0.97      0.98      0.97       594\n",
      "\n",
      "   micro avg       0.97      0.97      0.97      1054\n",
      "   macro avg       0.97      0.97      0.97      1054\n",
      "weighted avg       0.97      0.97      0.97      1054\n",
      "\n",
      "The accuracy is: 97.15370018975332 %\n",
      "[[443  17]\n",
      " [ 13 581]]\n"
     ]
    }
   ],
   "source": [
    "print(\"XGBM\")\n",
    "pred2=xgb_model.predict(features_test)\n",
    "print(classification_report(labels_test, pred2))\n",
    "print('The accuracy is:', 100*accuracy_score(labels_test, pred2),'%')\n",
    "print(metrics.confusion_matrix(labels_test, pred2))"
   ]
  },
  {
   "cell_type": "code",
   "execution_count": 9,
   "metadata": {},
   "outputs": [
    {
     "name": "stdout",
     "output_type": "stream",
     "text": [
      "Pickling XGB model\n",
      "Pickling Completed\n"
     ]
    }
   ],
   "source": [
    "print(\"Pickling XGB model\")\n",
    "# must open in binary format to pickle\n",
    "pickle.dump(xgb_model, open(\"Trained_XGBooster_model.pkl\", \"wb\"))\n",
    "print(\"Pickling Completed\")"
   ]
  }
 ],
 "metadata": {
  "kernelspec": {
   "display_name": "Python 3",
   "language": "python",
   "name": "python3"
  },
  "language_info": {
   "codemirror_mode": {
    "name": "ipython",
    "version": 3
   },
   "file_extension": ".py",
   "mimetype": "text/x-python",
   "name": "python",
   "nbconvert_exporter": "python",
   "pygments_lexer": "ipython3",
   "version": "3.7.0"
  }
 },
 "nbformat": 4,
 "nbformat_minor": 2
}
